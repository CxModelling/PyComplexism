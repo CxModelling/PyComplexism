{
 "cells": [
  {
   "cell_type": "code",
   "execution_count": 1,
   "metadata": {
    "collapsed": true
   },
   "outputs": [],
   "source": [
    "%run path.py\n",
    "from dzdy import *"
   ]
  },
  {
   "cell_type": "code",
   "execution_count": 10,
   "metadata": {
    "collapsed": true
   },
   "outputs": [],
   "source": [
    "par_script = \"\"\"\n",
    "    transmission_rate = 1.5\n",
    "    rec_rate ~ triangle(0.1, 0.2, 0.3)\n",
    "    beta ~ exp(transmission_rate)\n",
    "    gamma ~ exp(rec_rate)\n",
    "    Die ~ exp(0.02)\n",
    "\"\"\"\n",
    "\n",
    "dc_ctbn_script = '''\n",
    "    Name = SIR_bn\n",
    "    Type = CTBN\n",
    "    \n",
    "    life[Alive | Dead]\n",
    "    sir[S | I | R]\n",
    "    \n",
    "    Alive{life:Alive}\n",
    "    Dead{life:Dead}\n",
    "    Inf{life:Alive, sir:I}\n",
    "    Rec{life:Alive, sir:R}\n",
    "    Sus{life:Alive, sir:S}\n",
    "\n",
    "    Die -> Dead # from transition Die to state Dead by distribution Die\n",
    "    Sus -- Infect(beta) -> Inf \n",
    "    Inf -- Recov(gamma) -> Rec\n",
    "    \n",
    "    Alive -- Die # from state Alive to transition Die\n",
    "'''\n",
    "\n",
    "dc_ctmc_script = '''\n",
    "    Name = SIR_mc\n",
    "    Type = CTMC\n",
    "\n",
    "    Inf\n",
    "    Rec\n",
    "    Sus\n",
    "    Dead\n",
    "\n",
    "    Sus -- Infect(beta) -> Inf \n",
    "    Inf -- Recov(gamma) -> Rec\n",
    "    Sus -- Die -> Dead\n",
    "    \n",
    "    Inf -- Die\n",
    "    Rec -- Die\n",
    "'''\n"
   ]
  },
  {
   "cell_type": "code",
   "execution_count": 11,
   "metadata": {
    "collapsed": false
   },
   "outputs": [
    {
     "name": "stdout",
     "output_type": "stream",
     "text": [
      "PCore pSIR added\n",
      "Dcore SIR_mc added\n",
      "Dcore SIR_bn added\n"
     ]
    }
   ],
   "source": [
    "da = DirectorABM()\n",
    "da.read_pcore('pSIR', par_script)\n",
    "da.read_dcore(dc_ctmc_script)\n",
    "da.read_dcore(dc_ctbn_script)"
   ]
  },
  {
   "cell_type": "code",
   "execution_count": 9,
   "metadata": {
    "collapsed": false
   },
   "outputs": [
    {
     "name": "stdout",
     "output_type": "stream",
     "text": [
      "['pSIR']\n",
      "['SIR_bn', 'SIR_mc']\n"
     ]
    }
   ],
   "source": [
    "da.list_pcores()\n",
    "da.list_dcores()"
   ]
  }
 ],
 "metadata": {
  "kernelspec": {
   "display_name": "Python 3",
   "language": "python",
   "name": "python3"
  },
  "language_info": {
   "codemirror_mode": {
    "name": "ipython",
    "version": 3
   },
   "file_extension": ".py",
   "mimetype": "text/x-python",
   "name": "python",
   "nbconvert_exporter": "python",
   "pygments_lexer": "ipython3",
   "version": "3.6.0"
  }
 },
 "nbformat": 4,
 "nbformat_minor": 2
}
