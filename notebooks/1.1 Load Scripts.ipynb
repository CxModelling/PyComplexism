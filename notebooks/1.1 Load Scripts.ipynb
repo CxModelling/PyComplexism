{
 "cells": [
  {
   "cell_type": "code",
   "execution_count": 1,
   "metadata": {
    "collapsed": true
   },
   "outputs": [],
   "source": [
    "%run path.py\n",
    "from dzdy import *"
   ]
  },
  {
   "cell_type": "code",
   "execution_count": 2,
   "metadata": {
    "collapsed": false
   },
   "outputs": [
    {
     "name": "stdout",
     "output_type": "stream",
     "text": [
      "PCore pSIR added\n",
      "Dcore SIR_bn added\n",
      "Dcore SIR_mc added\n"
     ]
    }
   ],
   "source": [
    "da = DirectorABM()\n",
    "da.load_pcore('pSIR', 'scripts/pSIR.txt')\n",
    "da.load_dcore('scripts/SIR_bn.txt')\n",
    "da.load_dcore('scripts/SIR_mc.txt')"
   ]
  },
  {
   "cell_type": "code",
   "execution_count": 3,
   "metadata": {
    "collapsed": false
   },
   "outputs": [
    {
     "name": "stdout",
     "output_type": "stream",
     "text": [
      "['pSIR']\n",
      "['SIR_bn', 'SIR_mc']\n"
     ]
    }
   ],
   "source": [
    "da.list_pcores()\n",
    "da.list_dcores()"
   ]
  }
 ],
 "metadata": {
  "kernelspec": {
   "display_name": "Python 3",
   "language": "python",
   "name": "python3"
  },
  "language_info": {
   "codemirror_mode": {
    "name": "ipython",
    "version": 3
   },
   "file_extension": ".py",
   "mimetype": "text/x-python",
   "name": "python",
   "nbconvert_exporter": "python",
   "pygments_lexer": "ipython3",
   "version": "3.6.0"
  }
 },
 "nbformat": 4,
 "nbformat_minor": 2
}
