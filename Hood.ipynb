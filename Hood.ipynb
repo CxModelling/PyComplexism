{
 "cells": [
  {
   "cell_type": "code",
   "execution_count": 1,
   "metadata": {
    "collapsed": true
   },
   "outputs": [],
   "source": [
    "import matplotlib.pyplot as plt\n",
    "from dzdy import *"
   ]
  },
  {
   "cell_type": "code",
   "execution_count": 2,
   "metadata": {
    "collapsed": false
   },
   "outputs": [],
   "source": [
    "par_script = \"\"\" \n",
    "PCore pSIR{\n",
    "    transmission_rate = 0.015\n",
    "    rec_rate ~ triangle(0.1, 0.2, 0.3)\n",
    "    beta ~ exp(transmission_rate)\n",
    "    gamma ~ exp(rec_rate)\n",
    "    Die ~ exp(0.02)\n",
    "}\n",
    "\"\"\"\n",
    "\n",
    "dc_ctbn_script = '''\n",
    "CTBN SIR_BN {\n",
    "    life[Alive | Dead]\n",
    "    sir[S | I | R]\n",
    "    \n",
    "    Alive{life:Alive}\n",
    "    Dead{life:Dead}\n",
    "    Inf{life:Alive, sir:I}\n",
    "    Rec{life:Alive, sir:R}\n",
    "    Sus{life:Alive, sir:S}\n",
    "\n",
    "    Die -> Dead # from transition Die to state Dead by distribution Die\n",
    "    Sus -- Infect(beta) -> Inf \n",
    "    Inf -- Recov(gamma) -> Rec\n",
    "    \n",
    "    Alive -- Die # from state Alive to transition Die\n",
    "}\n",
    "'''\n",
    "\n",
    "da = Director()\n",
    "da.read_pc(par_script)\n",
    "da.read_dc(dc_ctbn_script)"
   ]
  },
  {
   "cell_type": "code",
   "execution_count": 3,
   "metadata": {
    "collapsed": false
   },
   "outputs": [],
   "source": [
    "cfd = da.new_mc('ABM_M2', 'ABM', tar_pc='pSIR', tar_dc='SIR_BN')\n",
    "cfd.add_network('IDU', 'BA', m=2)\n",
    "cfd.add_behaviour('cycle', be_type='Reincarnation', s_birth = 'Sus', s_death = 'Dead')\n",
    "cfd.add_behaviour('transmission', be_type='NetShock', s_src = 'Inf', t_tar = 'Infect', net='IDU')\n",
    "\n",
    "cfd.set_observations(states=['Sus', 'Inf', 'Rec'])\n",
    "\n",
    "cfd = da.new_mc('ABM_M5', 'ABM', tar_pc='pSIR', tar_dc='SIR_BN')\n",
    "cfd.add_network('IDU', 'BA', m=5)\n",
    "cfd.add_behaviour('cycle', be_type='Reincarnation', s_birth = 'Sus', s_death = 'Dead')\n",
    "cfd.add_behaviour('transmission', be_type='NetShock', s_src = 'Inf', t_tar = 'Infect', net='*')\n",
    "\n",
    "cfd.set_observations(states=['Sus', 'Inf', 'Rec'])"
   ]
  },
  {
   "cell_type": "code",
   "execution_count": 4,
   "metadata": {
    "collapsed": false
   },
   "outputs": [],
   "source": [
    "lyo = da.new_layout('Lyo1')\n",
    "lyo.add_entry('A', 'ABM_M2', {'Sus': 20, 'Inf': 10})\n",
    "lyo.add_entry('B', 'ABM_M2', {'Sus': 20}, size=3)\n",
    "lyo.add_entry('C', 'ABM_M5', {'Sus': 20, 'Inf': 10}, size=2)"
   ]
  },
  {
   "cell_type": "code",
   "execution_count": 5,
   "metadata": {
    "collapsed": false
   },
   "outputs": [
    {
     "data": {
      "image/png": "[encoded data removed]",
      "text/plain": [
       "<matplotlib.figure.Figure at 0xa82c9b0>"
      ]
     },
     "metadata": {},
     "output_type": "display_data"
    }
   ],
   "source": [
    "mod, out = da.simulate('Lyo1', fr=0, to=10)\n",
    "out.plot()\n",
    "plt.show()"
   ]
  },
  {
   "cell_type": "code",
   "execution_count": 6,
   "metadata": {
    "collapsed": false
   },
   "outputs": [
    {
     "data": {
      "text/plain": [
       "Barabasi_Albert(N=30, M=2)"
      ]
     },
     "execution_count": 6,
     "metadata": {},
     "output_type": "execute_result"
    }
   ],
   "source": [
    "mod.Models['A'].Pop.Networks['IDU']"
   ]
  },
  {
   "cell_type": "code",
   "execution_count": 7,
   "metadata": {
    "collapsed": false
   },
   "outputs": [
    {
     "data": {
      "image/png": "[encoded data removed]",
      "text/plain": [
       "<matplotlib.figure.Figure at 0xa7e75f8>"
      ]
     },
     "metadata": {},
     "output_type": "display_data"
    }
   ],
   "source": [
    "mod, out = da.simulate('ABM_M2', y0={'Sus': 20, 'Inf': 10},fr=0, to=10)\n",
    "out.plot()\n",
    "plt.show()"
   ]
  },
  {
   "cell_type": "code",
   "execution_count": 8,
   "metadata": {
    "collapsed": false
   },
   "outputs": [
    {
     "data": {
      "text/plain": [
       "{'Inf': Inf,\n",
       " 'Rec': Rec,\n",
       " 'Sus': Sus,\n",
       " '[life=Dead, sir=I]': [life=Dead, sir=I],\n",
       " '[life=Dead, sir=R]': [life=Dead, sir=R],\n",
       " '[life=Dead, sir=S]': [life=Dead, sir=S]}"
      ]
     },
     "execution_count": 8,
     "metadata": {},
     "output_type": "execute_result"
    }
   ],
   "source": [
    "mod.Pop.Eve.States"
   ]
  },
  {
   "cell_type": "code",
   "execution_count": null,
   "metadata": {
    "collapsed": true
   },
   "outputs": [],
   "source": [
    "import numpy as np\n"
   ]
  },
  {
   "cell_type": "code",
   "execution_count": 22,
   "metadata": {
    "collapsed": false
   },
   "outputs": [],
   "source": [
    "class LinearCombination:\n",
    "    def __init__(self, intercept=0, default=0, ):\n",
    "        self.Coefficients = dict()\n",
    "        self.TransFunc = None\n",
    "        self.Intercept = intercept\n",
    "        self.Default = default\n",
    "        \n",
    "    def __setitem__(self, cov, coef):\n",
    "        self.Coefficients[cov] = coef\n",
    "        \n",
    "    def add_covariate(self, cov, coef=1):\n",
    "        self.Coefficients[cov] = coef\n",
    "        \n",
    "    def add_covariates(self, covs):\n",
    "        self.Coefficients.update(covs)\n",
    "        \n",
    "    def calculate(self, covs):\n",
    "        y = sum([coef*(covs[cov] if cov in covs else self.Default) for cov, coef in self.Coefficients.items()])\n",
    "        y += self.Intercept\n",
    "        try:\n",
    "            return self.TransFunc(y)\n",
    "        except TypeError:\n",
    "            return y\n",
    "        \n",
    "    def __repr__(self):\n",
    "        func = ['{}{}{}'.format('+'if v>=0 else '',v, k) for k, v in self.Coefficients.items()]\n",
    "        func.append('{}{}'.format('+'if self.Intercept>=0 else '', self.Intercept))\n",
    "        func = ' '.join(func)\n",
    "        \n",
    "        return func\n",
    "        "
   ]
  },
  {
   "cell_type": "code",
   "execution_count": 23,
   "metadata": {
    "collapsed": false
   },
   "outputs": [
    {
     "data": {
      "text/plain": [
       "+1X1 -2X2 -20"
      ]
     },
     "execution_count": 23,
     "metadata": {},
     "output_type": "execute_result"
    }
   ],
   "source": [
    "reg = LinearCombination(-20)\n",
    "reg.add_covariates({'X1': 1, 'X2': -2})\n",
    "reg"
   ]
  },
  {
   "cell_type": "code",
   "execution_count": 25,
   "metadata": {
    "collapsed": false
   },
   "outputs": [
    {
     "data": {
      "text/plain": [
       "-10"
      ]
     },
     "execution_count": 25,
     "metadata": {},
     "output_type": "execute_result"
    }
   ],
   "source": [
    "reg.calculate({'X1': 10})"
   ]
  }
 ],
 "metadata": {
  "kernelspec": {
   "display_name": "Python 3",
   "language": "python",
   "name": "python3"
  },
  "language_info": {
   "codemirror_mode": {
    "name": "ipython",
    "version": 3
   },
   "file_extension": ".py",
   "mimetype": "text/x-python",
   "name": "python",
   "nbconvert_exporter": "python",
   "pygments_lexer": "ipython3",
   "version": "3.6.0"
  }
 },
 "nbformat": 4,
 "nbformat_minor": 0
}
