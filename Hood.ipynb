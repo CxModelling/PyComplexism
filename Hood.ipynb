{
 "cells": [
  {
   "cell_type": "code",
   "execution_count": 1,
   "metadata": {
    "collapsed": false
   },
   "outputs": [
    {
     "name": "stdout",
     "output_type": "stream",
     "text": [
      "PCore pSIR added\n",
      "Dcore SIR_bn added\n"
     ]
    }
   ],
   "source": [
    "from dzdy import *\n",
    "\n",
    "par_script = \"\"\"\n",
    "    transmission_rate = 1.5\n",
    "    rec_rate ~ triangle(0.1, 0.2, 0.3)\n",
    "    beta ~ exp(transmission_rate)\n",
    "    gamma ~ exp(rec_rate)\n",
    "    Die ~ exp(0.02)\n",
    "\"\"\"\n",
    "\n",
    "dc_ctbn_script = '''\n",
    "    Name = SIR_bn\n",
    "    Type = CTBN\n",
    "    \n",
    "    life[Alive | Dead]\n",
    "    sir[S | I | R]\n",
    "    \n",
    "    Alive{life:Alive}\n",
    "    Dead{life:Dead}\n",
    "    Inf{life:Alive, sir:I}\n",
    "    Rec{life:Alive, sir:R}\n",
    "    Sus{life:Alive, sir:S}\n",
    "\n",
    "    Die -> Dead # from transition Die to state Dead by distribution Die\n",
    "    Sus -- Infect(beta) -> Inf \n",
    "    Inf -- Recov(gamma) -> Rec\n",
    "    \n",
    "    Alive -- Die # from state Alive to transition Die\n",
    "'''\n",
    "\n",
    "da = DirectorABM()\n",
    "da.read_pcore('pSIR', par_script)\n",
    "da.read_dcore(dc_ctbn_script)\n",
    "cfd = da.new_abm('ABM_SIR', 'pSIR', 'SIR_bn')\n",
    "cfd.set_observations(states=['Sus', 'Inf', 'Rec'], \n",
    "                      behaviours=['transmission'])\n",
    "cfd.add_fill_up('Distribution', Name = 'BMI', Distribution = 'norm(23,5)')"
   ]
  },
  {
   "cell_type": "code",
   "execution_count": 10,
   "metadata": {
    "collapsed": false
   },
   "outputs": [
    {
     "data": {
      "text/plain": [
       "OrderedDict([('Ag1', ID: Ag1, BMI: 23.7187903804, State: Sus),\n",
       "             ('Ag2', ID: Ag2, BMI: 29.3691911666, State: Sus),\n",
       "             ('Ag3', ID: Ag3, BMI: 23.331165766, State: Sus),\n",
       "             ('Ag4', ID: Ag4, BMI: 25.2256896284, State: Sus),\n",
       "             ('Ag5', ID: Ag5, BMI: 19.7870290976, State: Inf)])"
      ]
     },
     "execution_count": 10,
     "metadata": {},
     "output_type": "execute_result"
    }
   ],
   "source": [
    "mod_src = da.generate_abm('ABM_SIR')\n",
    "mod_src.initialise(0, {'Sus': 4, 'Inf': 1})\n",
    "mod_src.Pop.Agents"
   ]
  },
  {
   "cell_type": "code",
   "execution_count": 11,
   "metadata": {
    "collapsed": false
   },
   "outputs": [
    {
     "name": "stdout",
     "output_type": "stream",
     "text": [
      "Tr(Name: Infect, To: Inf, By: exp(1.5)): 0.1569898597976952\n",
      "Tr(Name: Infect, To: Inf, By: exp(1.5)): 0.09563379633611281\n",
      "Tr(Name: Infect, To: Inf, By: exp(1.5)): 1.6196863064768308\n",
      "Tr(Name: Infect, To: Inf, By: exp(1.5)): 2.0417956172956755\n",
      "Tr(Name: Recov, To: Rec, By: exp(0.197163119925)): 0.622109860854025\n"
     ]
    }
   ],
   "source": [
    "for ag in mod_src.Pop.Agents.values():\n",
    "    print(ag.next)"
   ]
  },
  {
   "cell_type": "code",
   "execution_count": null,
   "metadata": {
    "collapsed": true
   },
   "outputs": [],
   "source": [
    "def copy_agent(ag_src, dc, tr_ch=None):\n",
    "    if not tr_ch:\n",
    "        tr_ch = dc.Transitions\n",
    "    ag_new = Agent(ag_src.Name, dc_new[ag_src.State.Name])\n",
    "\n",
    "    if not tr_ch:\n",
    "        return ag_new\n",
    "    \n",
    "    for tr, tte in ag_src.Trans.items():\n",
    "        if tr.Name in tr_ch:\n",
    "            continue\n",
    "        ag_new.Trans[dc_new.Transitions[tr.Name]] = tte\n",
    "    ag_new.Info.update(ag_src.Info)  \n",
    "    return ag_new"
   ]
  },
  {
   "cell_type": "code",
   "execution_count": 36,
   "metadata": {
    "collapsed": false
   },
   "outputs": [
    {
     "name": "stdout",
     "output_type": "stream",
     "text": [
      "Tr(Name: Infect, To: Inf, By: exp(1.5)): 0.1569898597976952\n",
      "Tr(Name: Infect, To: Inf, By: exp(1.5)): 0.09563379633611281\n",
      "Tr(Name: Infect, To: Inf, By: exp(1.5)): 1.6196863064768308\n",
      "Tr(Name: Infect, To: Inf, By: exp(1.5)): 2.0417956172956755\n",
      "Tr(Name: Recov, To: Rec, By: exp(0.197163119925)): 0.622109860854025\n",
      "\n",
      "Tr(Name: Infect, To: Inf, By: exp(1.5)): 0.1569898597976952\n",
      "Tr(Name: Infect, To: Inf, By: exp(1.5)): 0.09563379633611281\n",
      "Tr(Name: Infect, To: Inf, By: exp(1.5)): 1.6196863064768308\n",
      "Tr(Name: Infect, To: Inf, By: exp(1.5)): 2.0417956172956755\n",
      "Tr(Name: Recov, To: Rec, By: exp(0.230533410121)): 0.022100606738555562\n"
     ]
    }
   ],
   "source": [
    "mc = 'ABM_SIR'\n",
    "tr_tte = True\n",
    "mod_new = da.generate_abm(mc)\n",
    "time_copy = mod_src.TimeEnd if mod_src.TimeEnd else 0\n",
    "pc_new = mod_new.PCore\n",
    "dc_new = mod_new.DCore\n",
    "trs = da.get_dcore(da.MCores[mc].TargetedDCore).Transitions\n",
    "if tr_tte:\n",
    "    _, ds = pc_new.difference(mod_src.PCore)\n",
    "    tr_ch = [k for k, v in trs.items() if v['Dist'] in ds]\n",
    "    for k, v in mod_src.Pop.Agents.items():\n",
    "        mod_new.Pop.Agents[k] = copy_agent(v, dc_new, tr_ch)\n",
    "else:\n",
    "    for k, v in mod_src.Pop.Agents.items():\n",
    "        mod_new.Pop.Agents[k] = copy_agent(v, dc_new)\n",
    "\n",
    "mod_new.Pop.Eve.Last = mod_src.Pop.Eve.Last\n",
    "# network\n",
    "        \n",
    "# mod\n",
    "\n",
    "for ag in mod_new.agents:\n",
    "        ag.update(time_copy)\n",
    "\n",
    "for ag in mod_src.Pop.Agents.values():\n",
    "    print(ag.next)\n",
    "print()\n",
    "for ag in mod_new.Pop.Agents.values():\n",
    "    print(ag.next)"
   ]
  },
  {
   "cell_type": "code",
   "execution_count": 26,
   "metadata": {
    "collapsed": true
   },
   "outputs": [],
   "source": [
    ""
   ]
  }
 ],
 "metadata": {
  "kernelspec": {
   "display_name": "Python 3",
   "language": "python",
   "name": "python3"
  },
  "language_info": {
   "codemirror_mode": {
    "name": "ipython",
    "version": 3.0
   },
   "file_extension": ".py",
   "mimetype": "text/x-python",
   "name": "python",
   "nbconvert_exporter": "python",
   "pygments_lexer": "ipython3",
   "version": "3.6.0"
  }
 },
 "nbformat": 4,
 "nbformat_minor": 0
}