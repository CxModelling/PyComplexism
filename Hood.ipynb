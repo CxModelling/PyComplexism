{
 "cells": [
  {
   "cell_type": "code",
   "execution_count": 1,
   "metadata": {
    "collapsed": false
   },
   "outputs": [],
   "source": [
    "import matplotlib.pyplot as plt\n",
    "from dzdy import *"
   ]
  },
  {
   "cell_type": "code",
   "execution_count": 2,
   "metadata": {
    "collapsed": false
   },
   "outputs": [],
   "source": [
    "\n",
    "par_script = \"\"\" \n",
    "PCore pSIR{\n",
    "    transmission_rate = 1.5/200\n",
    "    rec_rate ~ triangle(0.1, 0.2, 0.3)\n",
    "    beta ~ exp(transmission_rate)\n",
    "    gamma ~ exp(rec_rate)\n",
    "    Die ~ exp(0.2)\n",
    "}\n",
    "\"\"\"\n",
    "\n",
    "dc_ctbn_script = '''\n",
    "CTBN SIR_BN {\n",
    "    life[Alive | Dead]\n",
    "    sir[S | I | R]\n",
    "    \n",
    "    Alive{life:Alive}\n",
    "    Dead{life:Dead}\n",
    "    Inf{life:Alive, sir:I}\n",
    "    Rec{life:Alive, sir:R}\n",
    "    Sus{life:Alive, sir:S}\n",
    "\n",
    "    Die -> Dead # from transition Die to state Dead by distribution Die\n",
    "    Sus -- Infect_Net(beta) -> Inf\n",
    "    Sus -- Infect(beta) -> Inf \n",
    "    Inf -- Recov(gamma) -> Rec\n",
    "    \n",
    "    Alive -- Die # from state Alive to transition Die\n",
    "}\n",
    "'''\n",
    "\n",
    "da = Director()\n",
    "da.read_pc(par_script)\n",
    "da.read_dc(dc_ctbn_script)"
   ]
  },
  {
   "cell_type": "code",
   "execution_count": 3,
   "metadata": {
    "collapsed": false
   },
   "outputs": [
    {
     "data": {
      "text/plain": [
       "{'rec_rate': 0.25482866914676627, 'transmission_rate': 0.0075}"
      ]
     },
     "execution_count": 3,
     "metadata": {},
     "output_type": "execute_result"
    }
   ],
   "source": [
    "pc = da.get_pc('pSIR')\n",
    "pc = pc.sample_core()\n",
    "pc.Locus"
   ]
  },
  {
   "cell_type": "code",
   "execution_count": 21,
   "metadata": {
    "collapsed": false
   },
   "outputs": [
    {
     "name": "stdout",
     "output_type": "stream",
     "text": [
      "{Inf, [life=Dead, sir=R], Rec, [life=Dead, sir=I]}\n"
     ]
    }
   ],
   "source": [
    "bp = da.get_dc(\"SIR_BN\")\n",
    "dc = bp.generate_model(pc)\n",
    "\n",
    "\n",
    "sts = ['Inf', 'Rec']\n",
    "sts = [dc[st] for st in sts]\n",
    "to_check = list(sts)\n",
    "checked = set()\n",
    "reachables = set(sts)\n",
    "\n",
    "while to_check:\n",
    "    st = to_check.pop()\n",
    "    for tr in st.next_transitions():\n",
    "        st_new = st.exec(tr)\n",
    "        reachables.add(st_new)\n",
    "        if st_new not in checked:\n",
    "            to_check.append(st_new)\n",
    "    \n",
    "    checked.add(st)\n",
    "\n",
    "print(reachables)"
   ]
  },
  {
   "cell_type": "code",
   "execution_count": 3,
   "metadata": {
    "collapsed": false
   },
   "outputs": [
    {
     "data": {
      "image/png": "[encoded data removed]",
      "text/plain": [
       "<matplotlib.figure.Figure at 0xa714d30>"
      ]
     },
     "metadata": {},
     "output_type": "display_data"
    }
   ],
   "source": [
    "cfd = da.new_mc('ABM_M2', 'ABM', tar_pc='pSIR', tar_dc='SIR_BN')\n",
    "cfd.add_behaviour('cycle', be_type='Reincarnation', s_birth = 'Sus', s_death = 'Dead')\n",
    "cfd.add_behaviour('foi', be_type='ComFDShock', s_src='Inf', t_tar = 'Infect', dt=0.5)\n",
    "cfd.add_behaviour('step', be_type='TimeStep', ts=[0.5, 4], ys=[1, 0.1, 5], t_tar = 'Infect')\n",
    "\n",
    "cfd.set_observations(states=['Sus', 'Inf', 'Rec'])\n",
    "\n",
    "mod, out = da.simulate('ABM_M2', y0={'Sus': 95, 'Inf': 5}, fr=0 ,to=10, dt=.01)\n",
    "out.plot()\n",
    "plt.show()"
   ]
  },
  {
   "cell_type": "code",
   "execution_count": 4,
   "metadata": {
    "collapsed": false
   },
   "outputs": [],
   "source": [
    "cfd = da.new_mc('ABM_M2', 'ABM', tar_pc='pSIR', tar_dc='SIR_BN')\n",
    "cfd.add_network('IDU', 'BA', m=2)\n",
    "cfd.add_behaviour('cycle', be_type='Reincarnation', s_birth = 'Sus', s_death = 'Dead')\n",
    "cfd.add_behaviour('transmission', be_type='NetShock', s_src = 'Inf', t_tar = 'Infect_Net', net='IDU')\n",
    "cfd.add_behaviour('foi', be_type='ForeignShock', t_tar = 'Infect')\n",
    "\n",
    "cfd.set_observations(states=['Inf'], behaviours=['foi'])\n",
    "\n",
    "cfd = da.new_mc('ABM_M5', 'ABM', tar_pc='pSIR', tar_dc='SIR_BN')\n",
    "cfd.add_network('IDU', 'BA', m=5)\n",
    "cfd.add_behaviour('cycle', be_type='Reincarnation', s_birth = 'Sus', s_death = 'Dead')\n",
    "cfd.add_behaviour('transmission', be_type='NetShock', s_src = 'Inf', t_tar = 'Infect_Net', net='IDU')\n",
    "cfd.add_behaviour('foi', be_type='ForeignShock', t_tar = 'Infect')\n",
    "\n",
    "cfd.set_observations(states=['Inf'], behaviours=['foi'])"
   ]
  },
  {
   "cell_type": "code",
   "execution_count": 5,
   "metadata": {
    "collapsed": false
   },
   "outputs": [],
   "source": [
    "lyo = da.new_layout('Lyo1')\n",
    "\n",
    "lyo.add_entry('A', 'ABM_M2', {'Sus': 20, 'Inf': 10})\n",
    "lyo.add_entry('B', 'ABM_M2', {'Sus': 20}, size=3)\n",
    "lyo.add_entry('C', 'ABM_M5', {'Sus': 20, 'Inf': 10}, size=2)\n",
    "lyo.add_relation('*@Inf', 'Lyo1@FOI')\n",
    "lyo.add_relation('Lyo1@FOI', '*@foi')\n",
    "lyo.set_observations(['B_2', 'B_1', '*'])"
   ]
  },
  {
   "cell_type": "code",
   "execution_count": 6,
   "metadata": {
    "collapsed": false,
    "scrolled": true
   },
   "outputs": [
    {
     "name": "stdout",
     "output_type": "stream",
     "text": [
      "dict_keys(['A', 'B_0', 'B_1', 'B_2', 'C_0', 'C_1'])\n",
      "{'B_2', 'B_1'}\n"
     ]
    },
    {
     "data": {
      "image/png": "[encoded data removed]",
      "text/plain": [
       "<matplotlib.figure.Figure at 0xa730208>"
      ]
     },
     "metadata": {},
     "output_type": "display_data"
    }
   ],
   "source": [
    "mod, out = da.simulate('Lyo1', fr=0, to=10)\n",
    "out.plot()\n",
    "plt.show()"
   ]
  },
  {
   "cell_type": "code",
   "execution_count": null,
   "metadata": {
    "collapsed": false
   },
   "outputs": [],
   "source": [
    "pc, dc = generate_pc_dc(da.get_pc('pSIR'), da.get_dc('SIR_BN'))\n",
    "mc = CoreODE(dc)\n",
    "mc.Mods['FOI'] = InfectionFD('FOI', 'Infect', 'Inf')\n",
    "mc.Mods['Dead'] = Reincarnation('Dead', s_death='Dead', s_birth='Sus')\n",
    "model = ODEModel('SIR', mc, dt=0.01)\n",
    "model.add_obs_transition('Infect')\n",
    "model.add_obs_state('Alive')\n",
    "model.add_obs_state('Inf')\n",
    "model.add_obs_state('Sus')   \n",
    "model.add_obs_behaviour('Dead')"
   ]
  },
  {
   "cell_type": "code",
   "execution_count": null,
   "metadata": {
    "collapsed": true
   },
   "outputs": [],
   "source": [
    "cfd = da.new_mc('EBM', 'CoreODE', tar_pc='pSIR', tar_dc='SIR_BN')\n",
    "cfd.add_behaviour('FOI', be_type='InfectionFD', s_src = 'Inf', t_tar = 'Infect')\n",
    "cfd.add_behaviour('Dead', be_type='Reincarnation', s_death='Dead', s_birth='Sus')\n",
    "\n",
    "cfd.set_observations(states=['Sus', 'Inf', 'Rec', 'Alive'], behaviours=['FOI'])\n"
   ]
  },
  {
   "cell_type": "code",
   "execution_count": null,
   "metadata": {
    "collapsed": false
   },
   "outputs": [],
   "source": [
    "mod, out = da.simulate('EBM', y0={'Sus': 95, 'Inf': 5}, fr=0 ,to=10, dt=.01)\n",
    "#da.copy_model(mod_src=mod)\n",
    "out.plot()\n",
    "plt.show()"
   ]
  },
  {
   "cell_type": "code",
   "execution_count": null,
   "metadata": {
    "collapsed": false,
    "scrolled": true
   },
   "outputs": [],
   "source": [
    "out = simulate(model, y0={'Sus': 95, 'Inf': 5}, fr=0 ,to=10, dt=0.1)\n",
    "out.plot()\n",
    "plt.show()"
   ]
  },
  {
   "cell_type": "code",
   "execution_count": 11,
   "metadata": {
    "collapsed": false
   },
   "outputs": [
    {
     "data": {
      "text/plain": [
       "<dzdy.abmodel.abm.ObsABM at 0xa6ec9b0>"
      ]
     },
     "execution_count": 11,
     "metadata": {},
     "output_type": "execute_result"
    }
   ],
   "source": [
    "mod.Obs.Obs"
   ]
  }
 ],
 "metadata": {
  "kernelspec": {
   "display_name": "Python 3",
   "language": "python",
   "name": "python3"
  },
  "language_info": {
   "codemirror_mode": {
    "name": "ipython",
    "version": 3
   },
   "file_extension": ".py",
   "mimetype": "text/x-python",
   "name": "python",
   "nbconvert_exporter": "python",
   "pygments_lexer": "ipython3",
   "version": "3.6.0"
  }
 },
 "nbformat": 4,
 "nbformat_minor": 0
}
