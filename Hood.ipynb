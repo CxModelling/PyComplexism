{
 "cells": [
  {
   "cell_type": "code",
   "execution_count": 1,
   "metadata": {
    "collapsed": false
   },
   "outputs": [
    {
     "name": "stdout",
     "output_type": "stream",
     "text": [
      "PCore pSIR added\n",
      "Dcore SIR_bn added\n"
     ]
    }
   ],
   "source": [
    "from dzdy import *\n",
    "\n",
    "par_script = \"\"\"\n",
    "    transmission_rate = 1.5\n",
    "    rec_rate ~ triangle(0.1, 0.2, 0.3)\n",
    "    beta ~ exp(transmission_rate)\n",
    "    gamma ~ exp(rec_rate)\n",
    "    Die ~ exp(0.02)\n",
    "\"\"\"\n",
    "\n",
    "dc_ctbn_script = '''\n",
    "    Name = SIR_bn\n",
    "    Type = CTBN\n",
    "    \n",
    "    life[Alive | Dead]\n",
    "    sir[S | I | R]\n",
    "    \n",
    "    Alive{life:Alive}\n",
    "    Dead{life:Dead}\n",
    "    Inf{life:Alive, sir:I}\n",
    "    Rec{life:Alive, sir:R}\n",
    "    Sus{life:Alive, sir:S}\n",
    "\n",
    "    Die -> Dead # from transition Die to state Dead by distribution Die\n",
    "    Sus -- Infect(beta) -> Inf \n",
    "    Inf -- Recov(gamma) -> Rec\n",
    "    \n",
    "    Alive -- Die # from state Alive to transition Die\n",
    "'''\n",
    "\n",
    "da = DirectorABM()\n",
    "da.read_pcore('pSIR', par_script)\n",
    "da.read_dcore(dc_ctbn_script)"
   ]
  },
  {
   "cell_type": "code",
   "execution_count": 3,
   "metadata": {
    "collapsed": true
   },
   "outputs": [],
   "source": [
    "pc, dc = da.generate_pc_dc('pSIR', 'SIR_bn')\n",
    "pop = Population(dc)\n",
    "pop.append_fill(FillDistribution('BMI', 'norm(25, 5)'))"
   ]
  },
  {
   "cell_type": "code",
   "execution_count": 4,
   "metadata": {
    "collapsed": false
   },
   "outputs": [
    {
     "data": {
      "text/plain": [
       "OrderedDict([('Ag1', ID: Ag1, BMI: 25.1890408291, State: Sus),\n",
       "             ('Ag2', ID: Ag2, BMI: 22.6003506071, State: Sus),\n",
       "             ('Ag3', ID: Ag3, BMI: 21.5568069495, State: Sus),\n",
       "             ('Ag4', ID: Ag4, BMI: 29.1246347989, State: Sus),\n",
       "             ('Ag5', ID: Ag5, BMI: 16.4517985796, State: Inf),\n",
       "             ('Ag6', ID: Ag6, BMI: 26.5335654699, State: Inf)])"
      ]
     },
     "execution_count": 4,
     "metadata": {},
     "output_type": "execute_result"
    }
   ],
   "source": [
    "pop.add_agent('Sus', 2)\n",
    "pop.add_agent('Sus', 2)\n",
    "pop.add_agent('Inf', 2)\n",
    "pop.Agents"
   ]
  },
  {
   "cell_type": "code",
   "execution_count": 14,
   "metadata": {
    "collapsed": false
   },
   "outputs": [
    {
     "data": {
      "text/plain": [
       "{Tr(Name: Recov, To: Rec, By: exp(0.185974727187)): 2.0117101819065133,\n",
       " Tr(Name: Die, To: Dead, By: exp(0.02)): 70.321294980958314}"
      ]
     },
     "execution_count": 14,
     "metadata": {},
     "output_type": "execute_result"
    }
   ],
   "source": [
    "ag1 = pop.Agents['Ag6']\n",
    "ag1.initialise(0)\n",
    "ag1.Trans"
   ]
  },
  {
   "cell_type": "code",
   "execution_count": 6,
   "metadata": {
    "collapsed": true
   },
   "outputs": [],
   "source": [
    "pc_new, dc_new = da.generate_pc_dc('pSIR', 'SIR_bn')"
   ]
  },
  {
   "cell_type": "code",
   "execution_count": 7,
   "metadata": {
    "collapsed": false
   },
   "outputs": [
    {
     "data": {
      "text/plain": [
       "(['rec_rate'], ['gamma'])"
      ]
     },
     "execution_count": 7,
     "metadata": {},
     "output_type": "execute_result"
    }
   ],
   "source": [
    "pc_new.difference(pc)"
   ]
  },
  {
   "cell_type": "code",
   "execution_count": 18,
   "metadata": {
    "collapsed": false
   },
   "outputs": [],
   "source": [
    "state = dc_new[ag1.State.Name]"
   ]
  },
  {
   "cell_type": "code",
   "execution_count": 20,
   "metadata": {
    "collapsed": false
   },
   "outputs": [
    {
     "data": {
      "text/plain": [
       "False"
      ]
     },
     "execution_count": 20,
     "metadata": {},
     "output_type": "execute_result"
    }
   ],
   "source": [
    "ag1."
   ]
  }
 ],
 "metadata": {
  "kernelspec": {
   "display_name": "Python 3",
   "language": "python",
   "name": "python3"
  },
  "language_info": {
   "codemirror_mode": {
    "name": "ipython",
    "version": 3
   },
   "file_extension": ".py",
   "mimetype": "text/x-python",
   "name": "python",
   "nbconvert_exporter": "python",
   "pygments_lexer": "ipython3",
   "version": "3.6.0"
  }
 },
 "nbformat": 4,
 "nbformat_minor": 2
}
