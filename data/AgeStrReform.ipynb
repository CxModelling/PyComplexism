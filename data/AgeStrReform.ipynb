{
 "cells": [
  {
   "cell_type": "code",
   "execution_count": 1,
   "metadata": {
    "collapsed": false
   },
   "outputs": [],
   "source": [
    "agestr <- read.csv('agestr.csv')\n",
    "yr <- 2000\n",
    "offset <- c(rep(5, 17), 15)"
   ]
  },
  {
   "cell_type": "code",
   "execution_count": 2,
   "metadata": {
    "collapsed": false
   },
   "outputs": [
    {
     "data": {
      "text/html": [
       "<table>\n",
       "<thead><tr><th scope=col>Year</th><th scope=col>Sex</th><th scope=col>Area</th><th scope=col>Total</th><th scope=col>R1</th><th scope=col>R2</th><th scope=col>R3</th><th scope=col>R4</th><th scope=col>R5</th><th scope=col>R6</th><th scope=col>...</th><th scope=col>R9</th><th scope=col>R10</th><th scope=col>R11</th><th scope=col>R12</th><th scope=col>R13</th><th scope=col>R14</th><th scope=col>R15</th><th scope=col>R16</th><th scope=col>R17</th><th scope=col>R18</th></tr></thead>\n",
       "<tbody>\n",
       "\t<tr><td>2000    </td><td>1       </td><td>4       </td><td>11392050</td><td>776698  </td><td>841773  </td><td>831160  </td><td>964868  </td><td>1023835 </td><td> 905239 </td><td>...     </td><td>931580  </td><td>829386  </td><td>550932  </td><td>405574  </td><td>372741  </td><td>333391  </td><td>326658  </td><td>205981  </td><td> 94920  </td><td> 50073  </td></tr>\n",
       "\t<tr><td>2000    </td><td>2       </td><td>4       </td><td>10884622</td><td>712544  </td><td>773385  </td><td>767533  </td><td>910495  </td><td> 977952 </td><td> 873639 </td><td>...     </td><td>908597  </td><td>815063  </td><td>545257  </td><td>412352  </td><td>395783  </td><td>325651  </td><td>255964  </td><td>172188  </td><td> 93801  </td><td> 62681  </td></tr>\n",
       "\t<tr><td>2001    </td><td>1       </td><td>4       </td><td>11441651</td><td>743975  </td><td>842623  </td><td>842567  </td><td>910170  </td><td>1018859 </td><td> 930094 </td><td>...     </td><td>941127  </td><td>846586  </td><td>627410  </td><td>397003  </td><td>382731  </td><td>323539  </td><td>326319  </td><td>218110  </td><td>105011  </td><td> 53612  </td></tr>\n",
       "\t<tr><td>2001    </td><td>2       </td><td>4       </td><td>10963917</td><td>682784  </td><td>776341  </td><td>773594  </td><td>858177  </td><td> 973513 </td><td> 898649 </td><td>...     </td><td>918228  </td><td>832299  </td><td>623115  </td><td>403732  </td><td>406304  </td><td>332488  </td><td>265028  </td><td>180527  </td><td>102837  </td><td> 65886  </td></tr>\n",
       "\t<tr><td>2002    </td><td>1       </td><td>4       </td><td>11485409</td><td>704807  </td><td>843183  </td><td>849202  </td><td>866630  </td><td>1026165 </td><td> 943791 </td><td>...     </td><td>960079  </td><td>858992  </td><td>683753  </td><td>407786  </td><td>388001  </td><td>322139  </td><td>320449  </td><td>230394  </td><td>114146  </td><td> 58026  </td></tr>\n",
       "\t<tr><td>2002    </td><td>2       </td><td>4       </td><td>11035367</td><td>646022  </td><td>778195  </td><td>777483  </td><td>814496  </td><td> 978706 </td><td> 912380 </td><td>...     </td><td>935973  </td><td>847162  </td><td>679977  </td><td>414160  </td><td>411422  </td><td>343363  </td><td>273226  </td><td>188790  </td><td>110217  </td><td> 70550  </td></tr>\n",
       "\t<tr><td>2003    </td><td>1       </td><td>4       </td><td>11515062</td><td>684174  </td><td>812247  </td><td>840744  </td><td>850160  </td><td>1012438 </td><td> 967088 </td><td>...     </td><td>971638  </td><td>877898  </td><td>729037  </td><td>429830  </td><td>394429  </td><td>324142  </td><td>309833  </td><td>244424  </td><td>122381  </td><td> 62588  </td></tr>\n",
       "\t<tr><td>2003    </td><td>2       </td><td>4       </td><td>11089488</td><td>625729  </td><td>748799  </td><td>769927  </td><td>795888  </td><td> 964793 </td><td> 934343 </td><td>...     </td><td>947625  </td><td>866629  </td><td>727398  </td><td>436233  </td><td>416895  </td><td>353047  </td><td>280141  </td><td>199428  </td><td>116899  </td><td> 74851  </td></tr>\n",
       "\t<tr><td>2004    </td><td>1       </td><td>4       </td><td>11541585</td><td>650216  </td><td>791835  </td><td>846780  </td><td>823881  </td><td> 988195 </td><td> 996749 </td><td>...     </td><td>975195  </td><td>896871  </td><td>765796  </td><td>468133  </td><td>395322  </td><td>330091  </td><td>299144  </td><td>254807  </td><td>131554  </td><td> 67900  </td></tr>\n",
       "\t<tr><td>2004    </td><td>2       </td><td>4       </td><td>11147537</td><td>593723  </td><td>729180  </td><td>775348  </td><td>768784  </td><td> 939894 </td><td> 961852 </td><td>...     </td><td>951241  </td><td>886843  </td><td>766611  </td><td>475800  </td><td>415739  </td><td>364301  </td><td>289004  </td><td>210010  </td><td>124294  </td><td> 79370  </td></tr>\n",
       "\t<tr><td>2005    </td><td>1       </td><td>4       </td><td>11562440</td><td>598086  </td><td>783379  </td><td>839692  </td><td>825590  </td><td> 956187 </td><td>1018399 </td><td>...     </td><td>972854  </td><td>908705  </td><td>803078  </td><td>527088  </td><td>380324  </td><td>339262  </td><td>288316  </td><td>260601  </td><td>143274  </td><td> 73969  </td></tr>\n",
       "\t<tr><td>2005    </td><td>2       </td><td>4       </td><td>11207943</td><td>546269  </td><td>719557  </td><td>772066  </td><td>764664  </td><td> 908333 </td><td> 984102 </td><td>...     </td><td>952202  </td><td>900035  </td><td>805313  </td><td>535893  </td><td>399992  </td><td>376000  </td><td>298044  </td><td>219968  </td><td>132174  </td><td> 85196  </td></tr>\n",
       "\t<tr><td>2006    </td><td>1       </td><td>4       </td><td>11591707</td><td>571699  </td><td>749063  </td><td>840418  </td><td>837559  </td><td> 902971 </td><td>1014502 </td><td>...     </td><td>972298  </td><td>919910  </td><td>821251  </td><td>602280  </td><td>373307  </td><td>349809  </td><td>281052  </td><td>262137  </td><td>153915  </td><td> 82997  </td></tr>\n",
       "\t<tr><td>2006    </td><td>2       </td><td>4       </td><td>11284820</td><td>521243  </td><td>688097  </td><td>775111  </td><td>771109  </td><td> 857516 </td><td> 984295 </td><td>...     </td><td>955249  </td><td>912538  </td><td>825295  </td><td>614591  </td><td>392948  </td><td>387384  </td><td>305620  </td><td>229363  </td><td>140448  </td><td> 94304  </td></tr>\n",
       "\t<tr><td>2007    </td><td>1       </td><td>4       </td><td>11608767</td><td>550561  </td><td>709220  </td><td>841204  </td><td>844751  </td><td> 860639 </td><td>1022008 </td><td>...     </td><td>956057  </td><td>938532  </td><td>833832  </td><td>657109  </td><td>384466  </td><td>355601  </td><td>280289  </td><td>258048  </td><td>163045  </td><td> 89081  </td></tr>\n",
       "\t<tr><td>2007    </td><td>2       </td><td>4       </td><td>11349593</td><td>502024  </td><td>650560  </td><td>777076  </td><td>775575  </td><td> 814957 </td><td> 995008 </td><td>...     </td><td>940956  </td><td>931153  </td><td>841159  </td><td>672051  </td><td>404197  </td><td>393262  </td><td>316716  </td><td>237517  </td><td>147906  </td><td>101627  </td></tr>\n",
       "\t<tr><td>2008    </td><td>1       </td><td>4       </td><td>11626351</td><td>536491  </td><td>689226  </td><td>810883  </td><td>837112  </td><td> 845169 </td><td>1009260 </td><td>...     </td><td>945857  </td><td>950823  </td><td>853304  </td><td>701768  </td><td>406629  </td><td>362704  </td><td>282905  </td><td>250143  </td><td>173879  </td><td> 95716  </td></tr>\n",
       "\t<tr><td>2008    </td><td>2       </td><td>4       </td><td>11410680</td><td>489715  </td><td>630644  </td><td>748244  </td><td>768840  </td><td> 797136 </td><td> 985307 </td><td>...     </td><td>932657  </td><td>945023  </td><td>862593  </td><td>720458  </td><td>427415  </td><td>399815  </td><td>326636  </td><td>244753  </td><td>157217  </td><td>108452  </td></tr>\n",
       "\t<tr><td>2009    </td><td>1       </td><td>4       </td><td>11636734</td><td>523013  </td><td>656333  </td><td>790956  </td><td>843652  </td><td> 819263 </td><td> 985114 </td><td>...     </td><td>937285  </td><td>954649  </td><td>872033  </td><td>737598  </td><td>443885  </td><td>364463  </td><td>289278  </td><td>242555  </td><td>182732  </td><td>104096  </td></tr>\n",
       "\t<tr><td>2009    </td><td>2       </td><td>4       </td><td>11483038</td><td>479147  </td><td>599594  </td><td>728975  </td><td>774675  </td><td> 770663 </td><td> 965727 </td><td>...     </td><td>930830  </td><td>950826  </td><td>883697  </td><td>760244  </td><td>466877  </td><td>399612  </td><td>338240  </td><td>253475  </td><td>166676  </td><td>116521  </td></tr>\n",
       "\t<tr><td>2010    </td><td>1       </td><td>4       </td><td>11635225</td><td>503400  </td><td>605233  </td><td>782666  </td><td>836734  </td><td> 821067 </td><td> 953304 </td><td>...     </td><td>932140  </td><td>952466  </td><td>883709  </td><td>773674  </td><td>500740  </td><td>351553  </td><td>298770  </td><td>234614  </td><td>188509  </td><td>115065  </td></tr>\n",
       "\t<tr><td>2010    </td><td>2       </td><td>4       </td><td>11526898</td><td>460693  </td><td>553071  </td><td>719248  </td><td>771420  </td><td> 765670 </td><td> 933395 </td><td>...     </td><td>930305  </td><td>952402  </td><td>896683  </td><td>798855  </td><td>526541  </td><td>385297  </td><td>350116  </td><td>262595  </td><td>175596  </td><td>125778  </td></tr>\n",
       "\t<tr><td>2011    </td><td>1       </td><td>4       </td><td>11645674</td><td>498746  </td><td>579777  </td><td>748622  </td><td>837814  </td><td> 832933 </td><td> 899967 </td><td>...     </td><td>919426  </td><td>951201  </td><td>893621  </td><td>790656  </td><td>571994  </td><td>345490  </td><td>308671  </td><td>229209  </td><td>189644  </td><td>125534  </td></tr>\n",
       "\t<tr><td>2011    </td><td>2       </td><td>4       </td><td>11579238</td><td>458244  </td><td>528609  </td><td>687792  </td><td>774423  </td><td> 771069 </td><td> 878871 </td><td>...     </td><td>922634  </td><td>954537  </td><td>907285  </td><td>817458  </td><td>603327  </td><td>379048  </td><td>361279  </td><td>269771  </td><td>183798  </td><td>135805  </td></tr>\n",
       "\t<tr><td>2012    </td><td>1       </td><td>4       </td><td>11673319</td><td>511559  </td><td>558811  </td><td>709152  </td><td>839044  </td><td> 840354 </td><td> 857626 </td><td>...     </td><td>912991  </td><td>935207  </td><td>912094  </td><td>803377  </td><td>624453  </td><td>356836  </td><td>315219  </td><td>229340  </td><td>187308  </td><td>135666  </td></tr>\n",
       "\t<tr><td>2012    </td><td>2       </td><td>4       </td><td>11642503</td><td>472124  </td><td>509463  </td><td>650568  </td><td>776481  </td><td> 775225 </td><td> 830809 </td><td>...     </td><td>924215  </td><td>939746  </td><td>926068  </td><td>833060  </td><td>659867  </td><td>390644  </td><td>367737  </td><td>280443  </td><td>191268  </td><td>145691  </td></tr>\n",
       "</tbody>\n",
       "</table>\n"
      ],
      "text/latex": [
       "\\begin{tabular}{r|llllllllllllllllllllll}\n",
       " Year & Sex & Area & Total & R1 & R2 & R3 & R4 & R5 & R6 & ... & R9 & R10 & R11 & R12 & R13 & R14 & R15 & R16 & R17 & R18\\\\\n",
       "\\hline\n",
       "\t 2000     & 1        & 4        & 11392050 & 776698   & 841773   & 831160   & 964868   & 1023835  &  905239  & ...      & 931580   & 829386   & 550932   & 405574   & 372741   & 333391   & 326658   & 205981   &  94920   &  50073  \\\\\n",
       "\t 2000     & 2        & 4        & 10884622 & 712544   & 773385   & 767533   & 910495   &  977952  &  873639  & ...      & 908597   & 815063   & 545257   & 412352   & 395783   & 325651   & 255964   & 172188   &  93801   &  62681  \\\\\n",
       "\t 2001     & 1        & 4        & 11441651 & 743975   & 842623   & 842567   & 910170   & 1018859  &  930094  & ...      & 941127   & 846586   & 627410   & 397003   & 382731   & 323539   & 326319   & 218110   & 105011   &  53612  \\\\\n",
       "\t 2001     & 2        & 4        & 10963917 & 682784   & 776341   & 773594   & 858177   &  973513  &  898649  & ...      & 918228   & 832299   & 623115   & 403732   & 406304   & 332488   & 265028   & 180527   & 102837   &  65886  \\\\\n",
       "\t 2002     & 1        & 4        & 11485409 & 704807   & 843183   & 849202   & 866630   & 1026165  &  943791  & ...      & 960079   & 858992   & 683753   & 407786   & 388001   & 322139   & 320449   & 230394   & 114146   &  58026  \\\\\n",
       "\t 2002     & 2        & 4        & 11035367 & 646022   & 778195   & 777483   & 814496   &  978706  &  912380  & ...      & 935973   & 847162   & 679977   & 414160   & 411422   & 343363   & 273226   & 188790   & 110217   &  70550  \\\\\n",
       "\t 2003     & 1        & 4        & 11515062 & 684174   & 812247   & 840744   & 850160   & 1012438  &  967088  & ...      & 971638   & 877898   & 729037   & 429830   & 394429   & 324142   & 309833   & 244424   & 122381   &  62588  \\\\\n",
       "\t 2003     & 2        & 4        & 11089488 & 625729   & 748799   & 769927   & 795888   &  964793  &  934343  & ...      & 947625   & 866629   & 727398   & 436233   & 416895   & 353047   & 280141   & 199428   & 116899   &  74851  \\\\\n",
       "\t 2004     & 1        & 4        & 11541585 & 650216   & 791835   & 846780   & 823881   &  988195  &  996749  & ...      & 975195   & 896871   & 765796   & 468133   & 395322   & 330091   & 299144   & 254807   & 131554   &  67900  \\\\\n",
       "\t 2004     & 2        & 4        & 11147537 & 593723   & 729180   & 775348   & 768784   &  939894  &  961852  & ...      & 951241   & 886843   & 766611   & 475800   & 415739   & 364301   & 289004   & 210010   & 124294   &  79370  \\\\\n",
       "\t 2005     & 1        & 4        & 11562440 & 598086   & 783379   & 839692   & 825590   &  956187  & 1018399  & ...      & 972854   & 908705   & 803078   & 527088   & 380324   & 339262   & 288316   & 260601   & 143274   &  73969  \\\\\n",
       "\t 2005     & 2        & 4        & 11207943 & 546269   & 719557   & 772066   & 764664   &  908333  &  984102  & ...      & 952202   & 900035   & 805313   & 535893   & 399992   & 376000   & 298044   & 219968   & 132174   &  85196  \\\\\n",
       "\t 2006     & 1        & 4        & 11591707 & 571699   & 749063   & 840418   & 837559   &  902971  & 1014502  & ...      & 972298   & 919910   & 821251   & 602280   & 373307   & 349809   & 281052   & 262137   & 153915   &  82997  \\\\\n",
       "\t 2006     & 2        & 4        & 11284820 & 521243   & 688097   & 775111   & 771109   &  857516  &  984295  & ...      & 955249   & 912538   & 825295   & 614591   & 392948   & 387384   & 305620   & 229363   & 140448   &  94304  \\\\\n",
       "\t 2007     & 1        & 4        & 11608767 & 550561   & 709220   & 841204   & 844751   &  860639  & 1022008  & ...      & 956057   & 938532   & 833832   & 657109   & 384466   & 355601   & 280289   & 258048   & 163045   &  89081  \\\\\n",
       "\t 2007     & 2        & 4        & 11349593 & 502024   & 650560   & 777076   & 775575   &  814957  &  995008  & ...      & 940956   & 931153   & 841159   & 672051   & 404197   & 393262   & 316716   & 237517   & 147906   & 101627  \\\\\n",
       "\t 2008     & 1        & 4        & 11626351 & 536491   & 689226   & 810883   & 837112   &  845169  & 1009260  & ...      & 945857   & 950823   & 853304   & 701768   & 406629   & 362704   & 282905   & 250143   & 173879   &  95716  \\\\\n",
       "\t 2008     & 2        & 4        & 11410680 & 489715   & 630644   & 748244   & 768840   &  797136  &  985307  & ...      & 932657   & 945023   & 862593   & 720458   & 427415   & 399815   & 326636   & 244753   & 157217   & 108452  \\\\\n",
       "\t 2009     & 1        & 4        & 11636734 & 523013   & 656333   & 790956   & 843652   &  819263  &  985114  & ...      & 937285   & 954649   & 872033   & 737598   & 443885   & 364463   & 289278   & 242555   & 182732   & 104096  \\\\\n",
       "\t 2009     & 2        & 4        & 11483038 & 479147   & 599594   & 728975   & 774675   &  770663  &  965727  & ...      & 930830   & 950826   & 883697   & 760244   & 466877   & 399612   & 338240   & 253475   & 166676   & 116521  \\\\\n",
       "\t 2010     & 1        & 4        & 11635225 & 503400   & 605233   & 782666   & 836734   &  821067  &  953304  & ...      & 932140   & 952466   & 883709   & 773674   & 500740   & 351553   & 298770   & 234614   & 188509   & 115065  \\\\\n",
       "\t 2010     & 2        & 4        & 11526898 & 460693   & 553071   & 719248   & 771420   &  765670  &  933395  & ...      & 930305   & 952402   & 896683   & 798855   & 526541   & 385297   & 350116   & 262595   & 175596   & 125778  \\\\\n",
       "\t 2011     & 1        & 4        & 11645674 & 498746   & 579777   & 748622   & 837814   &  832933  &  899967  & ...      & 919426   & 951201   & 893621   & 790656   & 571994   & 345490   & 308671   & 229209   & 189644   & 125534  \\\\\n",
       "\t 2011     & 2        & 4        & 11579238 & 458244   & 528609   & 687792   & 774423   &  771069  &  878871  & ...      & 922634   & 954537   & 907285   & 817458   & 603327   & 379048   & 361279   & 269771   & 183798   & 135805  \\\\\n",
       "\t 2012     & 1        & 4        & 11673319 & 511559   & 558811   & 709152   & 839044   &  840354  &  857626  & ...      & 912991   & 935207   & 912094   & 803377   & 624453   & 356836   & 315219   & 229340   & 187308   & 135666  \\\\\n",
       "\t 2012     & 2        & 4        & 11642503 & 472124   & 509463   & 650568   & 776481   &  775225  &  830809  & ...      & 924215   & 939746   & 926068   & 833060   & 659867   & 390644   & 367737   & 280443   & 191268   & 145691  \\\\\n",
       "\\end{tabular}\n"
      ],
      "text/markdown": [
       "\n",
       "Year | Sex | Area | Total | R1 | R2 | R3 | R4 | R5 | R6 | ... | R9 | R10 | R11 | R12 | R13 | R14 | R15 | R16 | R17 | R18 | \n",
       "|---|---|---|---|---|---|---|---|---|---|---|---|---|---|---|---|---|---|---|---|---|---|---|---|---|---|\n",
       "| 2000     | 1        | 4        | 11392050 | 776698   | 841773   | 831160   | 964868   | 1023835  |  905239  | ...      | 931580   | 829386   | 550932   | 405574   | 372741   | 333391   | 326658   | 205981   |  94920   |  50073   | \n",
       "| 2000     | 2        | 4        | 10884622 | 712544   | 773385   | 767533   | 910495   |  977952  |  873639  | ...      | 908597   | 815063   | 545257   | 412352   | 395783   | 325651   | 255964   | 172188   |  93801   |  62681   | \n",
       "| 2001     | 1        | 4        | 11441651 | 743975   | 842623   | 842567   | 910170   | 1018859  |  930094  | ...      | 941127   | 846586   | 627410   | 397003   | 382731   | 323539   | 326319   | 218110   | 105011   |  53612   | \n",
       "| 2001     | 2        | 4        | 10963917 | 682784   | 776341   | 773594   | 858177   |  973513  |  898649  | ...      | 918228   | 832299   | 623115   | 403732   | 406304   | 332488   | 265028   | 180527   | 102837   |  65886   | \n",
       "| 2002     | 1        | 4        | 11485409 | 704807   | 843183   | 849202   | 866630   | 1026165  |  943791  | ...      | 960079   | 858992   | 683753   | 407786   | 388001   | 322139   | 320449   | 230394   | 114146   |  58026   | \n",
       "| 2002     | 2        | 4        | 11035367 | 646022   | 778195   | 777483   | 814496   |  978706  |  912380  | ...      | 935973   | 847162   | 679977   | 414160   | 411422   | 343363   | 273226   | 188790   | 110217   |  70550   | \n",
       "| 2003     | 1        | 4        | 11515062 | 684174   | 812247   | 840744   | 850160   | 1012438  |  967088  | ...      | 971638   | 877898   | 729037   | 429830   | 394429   | 324142   | 309833   | 244424   | 122381   |  62588   | \n",
       "| 2003     | 2        | 4        | 11089488 | 625729   | 748799   | 769927   | 795888   |  964793  |  934343  | ...      | 947625   | 866629   | 727398   | 436233   | 416895   | 353047   | 280141   | 199428   | 116899   |  74851   | \n",
       "| 2004     | 1        | 4        | 11541585 | 650216   | 791835   | 846780   | 823881   |  988195  |  996749  | ...      | 975195   | 896871   | 765796   | 468133   | 395322   | 330091   | 299144   | 254807   | 131554   |  67900   | \n",
       "| 2004     | 2        | 4        | 11147537 | 593723   | 729180   | 775348   | 768784   |  939894  |  961852  | ...      | 951241   | 886843   | 766611   | 475800   | 415739   | 364301   | 289004   | 210010   | 124294   |  79370   | \n",
       "| 2005     | 1        | 4        | 11562440 | 598086   | 783379   | 839692   | 825590   |  956187  | 1018399  | ...      | 972854   | 908705   | 803078   | 527088   | 380324   | 339262   | 288316   | 260601   | 143274   |  73969   | \n",
       "| 2005     | 2        | 4        | 11207943 | 546269   | 719557   | 772066   | 764664   |  908333  |  984102  | ...      | 952202   | 900035   | 805313   | 535893   | 399992   | 376000   | 298044   | 219968   | 132174   |  85196   | \n",
       "| 2006     | 1        | 4        | 11591707 | 571699   | 749063   | 840418   | 837559   |  902971  | 1014502  | ...      | 972298   | 919910   | 821251   | 602280   | 373307   | 349809   | 281052   | 262137   | 153915   |  82997   | \n",
       "| 2006     | 2        | 4        | 11284820 | 521243   | 688097   | 775111   | 771109   |  857516  |  984295  | ...      | 955249   | 912538   | 825295   | 614591   | 392948   | 387384   | 305620   | 229363   | 140448   |  94304   | \n",
       "| 2007     | 1        | 4        | 11608767 | 550561   | 709220   | 841204   | 844751   |  860639  | 1022008  | ...      | 956057   | 938532   | 833832   | 657109   | 384466   | 355601   | 280289   | 258048   | 163045   |  89081   | \n",
       "| 2007     | 2        | 4        | 11349593 | 502024   | 650560   | 777076   | 775575   |  814957  |  995008  | ...      | 940956   | 931153   | 841159   | 672051   | 404197   | 393262   | 316716   | 237517   | 147906   | 101627   | \n",
       "| 2008     | 1        | 4        | 11626351 | 536491   | 689226   | 810883   | 837112   |  845169  | 1009260  | ...      | 945857   | 950823   | 853304   | 701768   | 406629   | 362704   | 282905   | 250143   | 173879   |  95716   | \n",
       "| 2008     | 2        | 4        | 11410680 | 489715   | 630644   | 748244   | 768840   |  797136  |  985307  | ...      | 932657   | 945023   | 862593   | 720458   | 427415   | 399815   | 326636   | 244753   | 157217   | 108452   | \n",
       "| 2009     | 1        | 4        | 11636734 | 523013   | 656333   | 790956   | 843652   |  819263  |  985114  | ...      | 937285   | 954649   | 872033   | 737598   | 443885   | 364463   | 289278   | 242555   | 182732   | 104096   | \n",
       "| 2009     | 2        | 4        | 11483038 | 479147   | 599594   | 728975   | 774675   |  770663  |  965727  | ...      | 930830   | 950826   | 883697   | 760244   | 466877   | 399612   | 338240   | 253475   | 166676   | 116521   | \n",
       "| 2010     | 1        | 4        | 11635225 | 503400   | 605233   | 782666   | 836734   |  821067  |  953304  | ...      | 932140   | 952466   | 883709   | 773674   | 500740   | 351553   | 298770   | 234614   | 188509   | 115065   | \n",
       "| 2010     | 2        | 4        | 11526898 | 460693   | 553071   | 719248   | 771420   |  765670  |  933395  | ...      | 930305   | 952402   | 896683   | 798855   | 526541   | 385297   | 350116   | 262595   | 175596   | 125778   | \n",
       "| 2011     | 1        | 4        | 11645674 | 498746   | 579777   | 748622   | 837814   |  832933  |  899967  | ...      | 919426   | 951201   | 893621   | 790656   | 571994   | 345490   | 308671   | 229209   | 189644   | 125534   | \n",
       "| 2011     | 2        | 4        | 11579238 | 458244   | 528609   | 687792   | 774423   |  771069  |  878871  | ...      | 922634   | 954537   | 907285   | 817458   | 603327   | 379048   | 361279   | 269771   | 183798   | 135805   | \n",
       "| 2012     | 1        | 4        | 11673319 | 511559   | 558811   | 709152   | 839044   |  840354  |  857626  | ...      | 912991   | 935207   | 912094   | 803377   | 624453   | 356836   | 315219   | 229340   | 187308   | 135666   | \n",
       "| 2012     | 2        | 4        | 11642503 | 472124   | 509463   | 650568   | 776481   |  775225  |  830809  | ...      | 924215   | 939746   | 926068   | 833060   | 659867   | 390644   | 367737   | 280443   | 191268   | 145691   | \n",
       "\n",
       "\n"
      ],
      "text/plain": [
       "   Year Sex Area Total    R1     R2     R3     R4     R5      R6      ...\n",
       "1  2000 1   4    11392050 776698 841773 831160 964868 1023835  905239 ...\n",
       "2  2000 2   4    10884622 712544 773385 767533 910495  977952  873639 ...\n",
       "3  2001 1   4    11441651 743975 842623 842567 910170 1018859  930094 ...\n",
       "4  2001 2   4    10963917 682784 776341 773594 858177  973513  898649 ...\n",
       "5  2002 1   4    11485409 704807 843183 849202 866630 1026165  943791 ...\n",
       "6  2002 2   4    11035367 646022 778195 777483 814496  978706  912380 ...\n",
       "7  2003 1   4    11515062 684174 812247 840744 850160 1012438  967088 ...\n",
       "8  2003 2   4    11089488 625729 748799 769927 795888  964793  934343 ...\n",
       "9  2004 1   4    11541585 650216 791835 846780 823881  988195  996749 ...\n",
       "10 2004 2   4    11147537 593723 729180 775348 768784  939894  961852 ...\n",
       "11 2005 1   4    11562440 598086 783379 839692 825590  956187 1018399 ...\n",
       "12 2005 2   4    11207943 546269 719557 772066 764664  908333  984102 ...\n",
       "13 2006 1   4    11591707 571699 749063 840418 837559  902971 1014502 ...\n",
       "14 2006 2   4    11284820 521243 688097 775111 771109  857516  984295 ...\n",
       "15 2007 1   4    11608767 550561 709220 841204 844751  860639 1022008 ...\n",
       "16 2007 2   4    11349593 502024 650560 777076 775575  814957  995008 ...\n",
       "17 2008 1   4    11626351 536491 689226 810883 837112  845169 1009260 ...\n",
       "18 2008 2   4    11410680 489715 630644 748244 768840  797136  985307 ...\n",
       "19 2009 1   4    11636734 523013 656333 790956 843652  819263  985114 ...\n",
       "20 2009 2   4    11483038 479147 599594 728975 774675  770663  965727 ...\n",
       "21 2010 1   4    11635225 503400 605233 782666 836734  821067  953304 ...\n",
       "22 2010 2   4    11526898 460693 553071 719248 771420  765670  933395 ...\n",
       "23 2011 1   4    11645674 498746 579777 748622 837814  832933  899967 ...\n",
       "24 2011 2   4    11579238 458244 528609 687792 774423  771069  878871 ...\n",
       "25 2012 1   4    11673319 511559 558811 709152 839044  840354  857626 ...\n",
       "26 2012 2   4    11642503 472124 509463 650568 776481  775225  830809 ...\n",
       "   R9     R10    R11    R12    R13    R14    R15    R16    R17    R18   \n",
       "1  931580 829386 550932 405574 372741 333391 326658 205981  94920  50073\n",
       "2  908597 815063 545257 412352 395783 325651 255964 172188  93801  62681\n",
       "3  941127 846586 627410 397003 382731 323539 326319 218110 105011  53612\n",
       "4  918228 832299 623115 403732 406304 332488 265028 180527 102837  65886\n",
       "5  960079 858992 683753 407786 388001 322139 320449 230394 114146  58026\n",
       "6  935973 847162 679977 414160 411422 343363 273226 188790 110217  70550\n",
       "7  971638 877898 729037 429830 394429 324142 309833 244424 122381  62588\n",
       "8  947625 866629 727398 436233 416895 353047 280141 199428 116899  74851\n",
       "9  975195 896871 765796 468133 395322 330091 299144 254807 131554  67900\n",
       "10 951241 886843 766611 475800 415739 364301 289004 210010 124294  79370\n",
       "11 972854 908705 803078 527088 380324 339262 288316 260601 143274  73969\n",
       "12 952202 900035 805313 535893 399992 376000 298044 219968 132174  85196\n",
       "13 972298 919910 821251 602280 373307 349809 281052 262137 153915  82997\n",
       "14 955249 912538 825295 614591 392948 387384 305620 229363 140448  94304\n",
       "15 956057 938532 833832 657109 384466 355601 280289 258048 163045  89081\n",
       "16 940956 931153 841159 672051 404197 393262 316716 237517 147906 101627\n",
       "17 945857 950823 853304 701768 406629 362704 282905 250143 173879  95716\n",
       "18 932657 945023 862593 720458 427415 399815 326636 244753 157217 108452\n",
       "19 937285 954649 872033 737598 443885 364463 289278 242555 182732 104096\n",
       "20 930830 950826 883697 760244 466877 399612 338240 253475 166676 116521\n",
       "21 932140 952466 883709 773674 500740 351553 298770 234614 188509 115065\n",
       "22 930305 952402 896683 798855 526541 385297 350116 262595 175596 125778\n",
       "23 919426 951201 893621 790656 571994 345490 308671 229209 189644 125534\n",
       "24 922634 954537 907285 817458 603327 379048 361279 269771 183798 135805\n",
       "25 912991 935207 912094 803377 624453 356836 315219 229340 187308 135666\n",
       "26 924215 939746 926068 833060 659867 390644 367737 280443 191268 145691"
      ]
     },
     "metadata": {},
     "output_type": "display_data"
    }
   ],
   "source": [
    "agestr"
   ]
  },
  {
   "cell_type": "code",
   "execution_count": 3,
   "metadata": {
    "collapsed": false
   },
   "outputs": [
    {
     "data": {
      "image/png": "[encoded data removed]",
      "text/plain": [
       "plot without title"
      ]
     },
     "metadata": {},
     "output_type": "display_data"
    }
   ],
   "source": [
    "as1 <- agestr[agestr[1]==yr, -(1:4)][1,]/offset\n",
    "as1 <- splinefun(c(cumsum(offset) - offset/2, 100), c(as1, 0), method = \"natural\")\n",
    "as1 <- round(as1(0:99))\n",
    "as1 <- as1 * agestr[agestr[1]==yr, 4][1]/sum(as1)\n",
    "as2 <- agestr[agestr[1]==yr, -(1:4)][2,]/offset\n",
    "as2 <- splinefun(c(cumsum(offset) - offset/2, 100), c(as2, 0), method = \"natural\")\n",
    "as2 <- round(as2(0:99))\n",
    "as2 <- as2 * agestr[agestr[1]==yr, 4][2]/sum(as2)\n",
    "\n",
    "par(mfrow=c(2,1))\n",
    "plot(as1)\n",
    "lines(cumsum(offset) - offset/2, agestr[agestr[1]==yr, -(1:4)][1,]/offset)\n",
    "plot(as2)\n",
    "lines(cumsum(offset) - offset/2, agestr[agestr[1]==yr, -(1:4)][2,]/offset)"
   ]
  },
  {
   "cell_type": "code",
   "execution_count": 4,
   "metadata": {
    "collapsed": false
   },
   "outputs": [
    {
     "data": {
      "text/html": [
       "33.2522141688499"
      ],
      "text/latex": [
       "33.2522141688499"
      ],
      "text/markdown": [
       "33.2522141688499"
      ],
      "text/plain": [
       "[1] 33.25221"
      ]
     },
     "metadata": {},
     "output_type": "display_data"
    },
    {
     "data": {
      "text/html": [
       "33.5345928176919"
      ],
      "text/latex": [
       "33.5345928176919"
      ],
      "text/markdown": [
       "33.5345928176919"
      ],
      "text/plain": [
       "[1] 33.53459"
      ]
     },
     "metadata": {},
     "output_type": "display_data"
    }
   ],
   "source": [
    "sum(as1*0:99)/sum(as1)\n",
    "sum(as2*0:99)/sum(as2)"
   ]
  },
  {
   "cell_type": "code",
   "execution_count": 11,
   "metadata": {
    "collapsed": false
   },
   "outputs": [],
   "source": [
    "asnew <- rbind(data.frame(Sex=\"Male\", Age=0:99, Weight=as1), data.frame(Sex=\"Female\", Age=0:99, Weight=as2))"
   ]
  },
  {
   "cell_type": "code",
   "execution_count": 12,
   "metadata": {
    "collapsed": false
   },
   "outputs": [],
   "source": [
    "write.csv(asnew, paste0(\"AgeStr\", yr, \".csv\"), row.names = F)"
   ]
  }
 ],
 "metadata": {
  "kernelspec": {
   "display_name": "R",
   "language": "R",
   "name": "ir"
  },
  "language_info": {
   "codemirror_mode": "r",
   "file_extension": ".r",
   "mimetype": "text/x-r-source",
   "name": "R",
   "pygments_lexer": "r",
   "version": "3.3.2"
  }
 },
 "nbformat": 4,
 "nbformat_minor": 2
}
